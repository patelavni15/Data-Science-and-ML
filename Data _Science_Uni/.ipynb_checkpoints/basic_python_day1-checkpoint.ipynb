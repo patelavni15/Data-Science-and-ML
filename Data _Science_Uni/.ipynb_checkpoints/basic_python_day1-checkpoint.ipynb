{
 "cells": [
  {
   "cell_type": "code",
   "execution_count": 1,
   "id": "80adc4c9-2d37-4553-839f-4f243970d735",
   "metadata": {},
   "outputs": [
    {
     "name": "stdout",
     "output_type": "stream",
     "text": [
      "Hello\n"
     ]
    }
   ],
   "source": [
    "name = 'Hello'\n",
    "print(name)"
   ]
  },
  {
   "cell_type": "code",
   "execution_count": 2,
   "id": "2cc71d4f-68ed-4bd8-bf2f-8f60362456ec",
   "metadata": {},
   "outputs": [
    {
     "name": "stdout",
     "output_type": "stream",
     "text": [
      "World\n"
     ]
    }
   ],
   "source": [
    "#comment : use for described the code, it is not executable\n",
    "a = 'World' # This is 'World' String\n",
    "print(a)\n"
   ]
  },
  {
   "cell_type": "code",
   "execution_count": null,
   "id": "7c7f40d1-f0f7-4fd4-866b-080429ab62dd",
   "metadata": {},
   "outputs": [],
   "source": [
    "#Data Types and Variables\n",
    "- Text Type: str\n",
    "- Numeric Types: int, float\n",
    "- Sequence Types: list, tuple, range\n",
    "- MApping Type: dict\n",
    "- Set Type: set\n",
    "- Boolean Type: bool\n"
   ]
  },
  {
   "cell_type": "code",
   "execution_count": 5,
   "id": "ab469b4b-327e-4c31-b189-a1fe1ffdbde2",
   "metadata": {},
   "outputs": [
    {
     "name": "stdout",
     "output_type": "stream",
     "text": [
      "Krish\n",
      "21\n",
      "78.89\n"
     ]
    }
   ],
   "source": [
    "Name = 'Krish'\n",
    "age=21\n",
    "percentage=78.89\n",
    "print(Name)\n",
    "print(age)\n",
    "print(percentage)\n"
   ]
  },
  {
   "cell_type": "code",
   "execution_count": null,
   "id": "2beec2ba-922a-4ce5-a15b-0e02f2309b4a",
   "metadata": {},
   "outputs": [],
   "source": []
  }
 ],
 "metadata": {
  "kernelspec": {
   "display_name": "Python 3 (ipykernel)",
   "language": "python",
   "name": "python3"
  },
  "language_info": {
   "codemirror_mode": {
    "name": "ipython",
    "version": 3
   },
   "file_extension": ".py",
   "mimetype": "text/x-python",
   "name": "python",
   "nbconvert_exporter": "python",
   "pygments_lexer": "ipython3",
   "version": "3.12.4"
  }
 },
 "nbformat": 4,
 "nbformat_minor": 5
}
