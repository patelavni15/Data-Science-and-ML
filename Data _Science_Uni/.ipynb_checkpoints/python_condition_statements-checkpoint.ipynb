{
 "cells": [
  {
   "cell_type": "markdown",
   "id": "c2ba102d-833c-42ab-8230-da5e555df23b",
   "metadata": {},
   "source": [
    "Python Conditional Statements\n",
    "- if, else, elif"
   ]
  },
  {
   "cell_type": "code",
   "execution_count": 2,
   "id": "e42b83a4-e641-4f80-825a-5b57659b3ff8",
   "metadata": {},
   "outputs": [
    {
     "name": "stdout",
     "output_type": "stream",
     "text": [
      "b is greater than a\n"
     ]
    }
   ],
   "source": [
    "a, b=33,200\n",
    "if b>a :\n",
    "    print(\"b is greater than a\")"
   ]
  },
  {
   "cell_type": "code",
   "execution_count": 7,
   "id": "779a6b78-f479-4c37-a675-e3964b07cd50",
   "metadata": {},
   "outputs": [
    {
     "name": "stdout",
     "output_type": "stream",
     "text": [
      "a is greater than b\n"
     ]
    }
   ],
   "source": [
    "a, b=33,200\n",
    "if b<a :\n",
    "    print(\"b is greater than a\")\n",
    "else:\n",
    "    print(\"a is greater than b\" )"
   ]
  },
  {
   "cell_type": "code",
   "execution_count": 8,
   "id": "2067df65-72c7-40ad-af5e-ea956e9aa5b2",
   "metadata": {},
   "outputs": [],
   "source": [
    "viki, aman = 50, 80\n",
    "if viki > aman:\n",
    "    print(\"viki \\'s score is greater than aman\")\n",
    "elif viki == aman:\n",
    "    print(\"Both have same score\")"
   ]
  },
  {
   "cell_type": "code",
   "execution_count": 9,
   "id": "d9fc629c-81c8-488c-93d0-277462913b36",
   "metadata": {},
   "outputs": [
    {
     "name": "stdout",
     "output_type": "stream",
     "text": [
      "viki 's score is greater than aman\n"
     ]
    }
   ],
   "source": [
    "viki, aman = 50, 80\n",
    "if viki < aman:\n",
    "    print(\"viki \\'s score is greater than aman\")\n",
    "elif viki == aman:\n",
    "    print(\"Both have same score\")"
   ]
  },
  {
   "cell_type": "code",
   "execution_count": 14,
   "id": "064cdfa7-2a52-4225-8fd8-300d8d89bec6",
   "metadata": {},
   "outputs": [
    {
     "name": "stdout",
     "output_type": "stream",
     "text": [
      "Both have same score\n"
     ]
    }
   ],
   "source": [
    "viki, aman = 50, 50\n",
    "if viki < aman:\n",
    "    print(\"viki \\'s score is greater than aman\")\n",
    "elif viki == aman:\n",
    "    print(\"Both have same score\")"
   ]
  },
  {
   "cell_type": "code",
   "execution_count": 15,
   "id": "b204834b-c522-4d71-9cdd-c657a23fabc2",
   "metadata": {},
   "outputs": [
    {
     "name": "stdout",
     "output_type": "stream",
     "text": [
      "viki 's score is greater than aman\n"
     ]
    }
   ],
   "source": [
    "viki, aman = 90, 80\n",
    "if viki > aman:\n",
    "    print(\"viki \\'s score is greater than aman\")\n",
    "elif viki == aman:\n",
    "    print(\"Both have same score\")\n",
    "else:\n",
    "    print(\"aman \\'s score is greater\")"
   ]
  },
  {
   "cell_type": "code",
   "execution_count": 16,
   "id": "542c602d-28fe-4fcf-8b0a-5b5a83885212",
   "metadata": {},
   "outputs": [
    {
     "name": "stdout",
     "output_type": "stream",
     "text": [
      "aman 's score is greater\n"
     ]
    }
   ],
   "source": [
    "viki, aman = 90, 100\n",
    "if viki > aman:\n",
    "    print(\"viki \\'s score is greater than aman\")\n",
    "elif viki == aman:\n",
    "    print(\"Both have same score\")\n",
    "else:\n",
    "    print(\"aman \\'s score is greater\")"
   ]
  },
  {
   "cell_type": "code",
   "execution_count": 17,
   "id": "17456a0c-9389-4948-8593-4c066712f72b",
   "metadata": {},
   "outputs": [
    {
     "name": "stdout",
     "output_type": "stream",
     "text": [
      "Aman is pass\n",
      "Aman is in Mid range\n"
     ]
    }
   ],
   "source": [
    "marks= 45\n",
    "if marks > 35:\n",
    "    print(\"Aman is pass\")\n",
    "    if marks > 60:\n",
    "        print(\"Aman has distiction\")\n",
    "    else:\n",
    "        print(\"Aman is in Mid range\")\n",
    "else:\n",
    "    print(\"He is Fail\")"
   ]
  },
  {
   "cell_type": "code",
   "execution_count": 18,
   "id": "6cb97744-a4a1-4aae-ba86-e334e74e7371",
   "metadata": {},
   "outputs": [
    {
     "name": "stdout",
     "output_type": "stream",
     "text": [
      "He is Fail\n"
     ]
    }
   ],
   "source": [
    "marks= 25\n",
    "if marks > 35:\n",
    "    print(\"Aman is pass\")\n",
    "    if marks > 60:\n",
    "        print(\"Aman has distiction\")\n",
    "    else:\n",
    "        print(\"Aman is in Mid range\")\n",
    "else:\n",
    "    print(\"He is Fail\")"
   ]
  },
  {
   "cell_type": "code",
   "execution_count": 19,
   "id": "cfc89d90-6466-4193-ad3b-e63d12be1db1",
   "metadata": {},
   "outputs": [
    {
     "name": "stdout",
     "output_type": "stream",
     "text": [
      "Aman is pass\n",
      "Aman has distiction\n"
     ]
    }
   ],
   "source": [
    "marks= 75\n",
    "if marks > 35:\n",
    "    print(\"Aman is pass\")\n",
    "    if marks > 60:\n",
    "        print(\"Aman has distiction\")\n",
    "    else:\n",
    "        print(\"Aman is in Mid range\")\n",
    "else:\n",
    "    print(\"He is Fail\")"
   ]
  },
  {
   "cell_type": "code",
   "execution_count": null,
   "id": "0405275f-5b1a-48c2-b4c2-487f0fdf85da",
   "metadata": {},
   "outputs": [],
   "source": []
  }
 ],
 "metadata": {
  "kernelspec": {
   "display_name": "Python 3 (ipykernel)",
   "language": "python",
   "name": "python3"
  },
  "language_info": {
   "codemirror_mode": {
    "name": "ipython",
    "version": 3
   },
   "file_extension": ".py",
   "mimetype": "text/x-python",
   "name": "python",
   "nbconvert_exporter": "python",
   "pygments_lexer": "ipython3",
   "version": "3.12.4"
  }
 },
 "nbformat": 4,
 "nbformat_minor": 5
}
