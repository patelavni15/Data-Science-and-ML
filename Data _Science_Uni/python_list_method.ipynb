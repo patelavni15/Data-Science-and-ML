{
 "cells": [
  {
   "cell_type": "markdown",
   "id": "920c1ed3-f774-44e1-89ce-84d18094c1ea",
   "metadata": {},
   "source": [
    "List and its method\n",
    "P Y T H O N\n",
    "0 1 2 3 4 5\n",
    "-6-5-4-3-2-1\n",
    "\n",
    "NEGETIVE INDEX IS STERTED FROM -1\n",
    "POSITIVE INDEX I STARTED FROM 0\n",
    "lIST ARE USED TO STORE MULTILPE ITEMS IN SINGLE VARIABLE.\n",
    "- It is collection  which is odered, changable, allows duplicate members.\n",
    "  List methods:\n",
    "  - append()\n",
    "  - sort()\n",
    "  - reverse()\n",
    "  - remove()\n",
    "  - insert()\n",
    "  - index()\n",
    "  - extend()\n",
    "  - count()\n",
    "  - copy()\n",
    "  - clear()\n",
    "  - pop()\n",
    "  "
   ]
  },
  {
   "cell_type": "code",
   "execution_count": 1,
   "id": "09e1f8e9-264a-4d23-8992-3611d3ba1f65",
   "metadata": {},
   "outputs": [
    {
     "data": {
      "text/plain": [
       "['apple', 'cherry', 'banana']"
      ]
     },
     "execution_count": 1,
     "metadata": {},
     "output_type": "execute_result"
    }
   ],
   "source": [
    "fruits = ['apple', 'cherry','banana']\n",
    "fruits"
   ]
  },
  {
   "cell_type": "code",
   "execution_count": 9,
   "id": "8d7b6134-1b63-4b6c-bbd9-4a815be40934",
   "metadata": {},
   "outputs": [
    {
     "data": {
      "text/plain": [
       "['cherry', 'banana', 'apple', 'Papaya', 'Papaya', 'Papaya', 'papaya']"
      ]
     },
     "execution_count": 9,
     "metadata": {},
     "output_type": "execute_result"
    }
   ],
   "source": [
    "fruits.append('papaya') #add the element at end\n",
    "fruits"
   ]
  },
  {
   "cell_type": "code",
   "execution_count": 10,
   "id": "3587a86c-ee54-436b-b8e4-611761cc5ee0",
   "metadata": {},
   "outputs": [
    {
     "data": {
      "text/plain": [
       "['Papaya', 'Papaya', 'Papaya', 'apple', 'banana', 'cherry', 'papaya']"
      ]
     },
     "execution_count": 10,
     "metadata": {},
     "output_type": "execute_result"
    }
   ],
   "source": [
    "fruits.sort() #sort in alphabetical order\n",
    "fruits"
   ]
  },
  {
   "cell_type": "code",
   "execution_count": 11,
   "id": "f0b01051-00ee-48a3-b76c-dc006dcf8b61",
   "metadata": {},
   "outputs": [
    {
     "data": {
      "text/plain": [
       "['papaya', 'cherry', 'banana', 'apple', 'Papaya', 'Papaya', 'Papaya']"
      ]
     },
     "execution_count": 11,
     "metadata": {},
     "output_type": "execute_result"
    }
   ],
   "source": [
    "fruits.reverse()\n",
    "fruits"
   ]
  },
  {
   "cell_type": "code",
   "execution_count": 12,
   "id": "973c58ba-8d4a-4c41-b541-b235d117b0b1",
   "metadata": {},
   "outputs": [
    {
     "data": {
      "text/plain": [
       "['papaya', 'cherry', 'banana', 'apple', 'Papaya', 'Papaya']"
      ]
     },
     "execution_count": 12,
     "metadata": {},
     "output_type": "execute_result"
    }
   ],
   "source": [
    "fruits.remove('Papaya')\n",
    "fruits"
   ]
  },
  {
   "cell_type": "code",
   "execution_count": 13,
   "id": "5abbf91b-fc17-4985-8aa7-6c206f3bab1b",
   "metadata": {},
   "outputs": [
    {
     "data": {
      "text/plain": [
       "['papaya', 'cherry', 'banana', 'apple', 'Papaya']"
      ]
     },
     "execution_count": 13,
     "metadata": {},
     "output_type": "execute_result"
    }
   ],
   "source": [
    "fruits.remove('Papaya')\n",
    "fruits"
   ]
  },
  {
   "cell_type": "code",
   "execution_count": 14,
   "id": "877dcd62-7b78-4fa6-8610-045a4447ffe6",
   "metadata": {},
   "outputs": [
    {
     "data": {
      "text/plain": [
       "['papaya', 'cherry', 'banana', 'apple']"
      ]
     },
     "execution_count": 14,
     "metadata": {},
     "output_type": "execute_result"
    }
   ],
   "source": [
    "fruits.remove('Papaya')\n",
    "fruits"
   ]
  },
  {
   "cell_type": "code",
   "execution_count": 15,
   "id": "400ae908-a3da-4630-be05-ba41f421df3a",
   "metadata": {},
   "outputs": [
    {
     "data": {
      "text/plain": [
       "['cherry', 'banana', 'apple']"
      ]
     },
     "execution_count": 15,
     "metadata": {},
     "output_type": "execute_result"
    }
   ],
   "source": [
    "fruits.remove('papaya')\n",
    "fruits"
   ]
  },
  {
   "cell_type": "code",
   "execution_count": 16,
   "id": "e82afe8d-cda9-44c6-ad96-6f87cab4d295",
   "metadata": {},
   "outputs": [
    {
     "data": {
      "text/plain": [
       "['cherry', 'apple']"
      ]
     },
     "execution_count": 16,
     "metadata": {},
     "output_type": "execute_result"
    }
   ],
   "source": [
    "fruits.pop(1) # delete the element at index 1 which is banana\n",
    "fruits"
   ]
  },
  {
   "cell_type": "code",
   "execution_count": 17,
   "id": "f0579f13-711e-4c78-9b23-6cd1aa7e9c3e",
   "metadata": {},
   "outputs": [
    {
     "data": {
      "text/plain": [
       "['cherry', 'watermelon', 'apple']"
      ]
     },
     "execution_count": 17,
     "metadata": {},
     "output_type": "execute_result"
    }
   ],
   "source": [
    "fruits.insert(1, 'watermelon')\n",
    "fruits"
   ]
  },
  {
   "cell_type": "code",
   "execution_count": 18,
   "id": "b7fc3a3a-13f9-4284-8f69-beed7a200a02",
   "metadata": {},
   "outputs": [
    {
     "data": {
      "text/plain": [
       "['cherry', 'watermelon', 'apple']"
      ]
     },
     "execution_count": 18,
     "metadata": {},
     "output_type": "execute_result"
    }
   ],
   "source": [
    "fruits.index('apple')\n",
    "fruits"
   ]
  },
  {
   "cell_type": "code",
   "execution_count": 19,
   "id": "8265162d-4860-460c-92f0-cf188b1ed388",
   "metadata": {},
   "outputs": [
    {
     "data": {
      "text/plain": [
       "['pineapple', 'strawberry', 'gauva', 'cherry']"
      ]
     },
     "execution_count": 19,
     "metadata": {},
     "output_type": "execute_result"
    }
   ],
   "source": [
    "others = ['pineapple', 'strawberry', 'gauva', 'cherry']\n",
    "others"
   ]
  },
  {
   "cell_type": "code",
   "execution_count": 21,
   "id": "5699a4a2-c188-4678-8517-96dfeac53460",
   "metadata": {},
   "outputs": [
    {
     "data": {
      "text/plain": [
       "['cherry',\n",
       " 'watermelon',\n",
       " 'apple',\n",
       " 'pineapple',\n",
       " 'strawberry',\n",
       " 'gauva',\n",
       " 'cherry',\n",
       " 'pineapple',\n",
       " 'strawberry',\n",
       " 'gauva',\n",
       " 'cherry']"
      ]
     },
     "execution_count": 21,
     "metadata": {},
     "output_type": "execute_result"
    }
   ],
   "source": [
    "fruits.extend(others) # join to lists\n",
    "fruits"
   ]
  },
  {
   "cell_type": "code",
   "execution_count": 25,
   "id": "08812c96-6aeb-445b-b8cb-4d4297b622ef",
   "metadata": {},
   "outputs": [
    {
     "data": {
      "text/plain": [
       "['cherry',\n",
       " 'watermelon',\n",
       " 'apple',\n",
       " 'pineapple',\n",
       " 'strawberry',\n",
       " 'gauva',\n",
       " 'cherry',\n",
       " 'pineapple',\n",
       " 'strawberry',\n",
       " 'gauva',\n",
       " 'cherry']"
      ]
     },
     "execution_count": 25,
     "metadata": {},
     "output_type": "execute_result"
    }
   ],
   "source": [
    "fruits.count('cherry')\n",
    "fruits"
   ]
  },
  {
   "cell_type": "code",
   "execution_count": 29,
   "id": "38b805c3-1c0d-45b2-b0be-f26e36d75d2c",
   "metadata": {},
   "outputs": [
    {
     "data": {
      "text/plain": [
       "2"
      ]
     },
     "execution_count": 29,
     "metadata": {},
     "output_type": "execute_result"
    }
   ],
   "source": [
    "fruits.count('pineapple')"
   ]
  },
  {
   "cell_type": "code",
   "execution_count": 27,
   "id": "e62640a6-c131-4347-91af-91faecb09bee",
   "metadata": {},
   "outputs": [
    {
     "data": {
      "text/plain": [
       "['cherry',\n",
       " 'watermelon',\n",
       " 'apple',\n",
       " 'pineapple',\n",
       " 'strawberry',\n",
       " 'gauva',\n",
       " 'cherry',\n",
       " 'pineapple',\n",
       " 'strawberry',\n",
       " 'gauva',\n",
       " 'cherry']"
      ]
     },
     "execution_count": 27,
     "metadata": {},
     "output_type": "execute_result"
    }
   ],
   "source": [
    "fruits"
   ]
  },
  {
   "cell_type": "code",
   "execution_count": 30,
   "id": "81cfe1d6-87be-4d6e-8b47-dcc9aacf7471",
   "metadata": {},
   "outputs": [
    {
     "data": {
      "text/plain": [
       "['cherry',\n",
       " 'watermelon',\n",
       " 'apple',\n",
       " 'pineapple',\n",
       " 'strawberry',\n",
       " 'gauva',\n",
       " 'cherry',\n",
       " 'pineapple',\n",
       " 'strawberry',\n",
       " 'gauva',\n",
       " 'cherry']"
      ]
     },
     "execution_count": 30,
     "metadata": {},
     "output_type": "execute_result"
    }
   ],
   "source": [
    "fruits.copy()"
   ]
  },
  {
   "cell_type": "code",
   "execution_count": 31,
   "id": "25c28f1f-fdca-4d89-b20b-fa1614c10bd3",
   "metadata": {},
   "outputs": [],
   "source": [
    "fruits.clear() # clear the list"
   ]
  },
  {
   "cell_type": "code",
   "execution_count": 32,
   "id": "e330cc0b-1548-4de4-bb63-8b3eb750c1f4",
   "metadata": {},
   "outputs": [
    {
     "data": {
      "text/plain": [
       "[]"
      ]
     },
     "execution_count": 32,
     "metadata": {},
     "output_type": "execute_result"
    }
   ],
   "source": [
    "fruits"
   ]
  },
  {
   "cell_type": "code",
   "execution_count": null,
   "id": "6b36865f-3c8f-498b-93e2-3da428dd5654",
   "metadata": {},
   "outputs": [],
   "source": []
  }
 ],
 "metadata": {
  "kernelspec": {
   "display_name": "Python 3 (ipykernel)",
   "language": "python",
   "name": "python3"
  },
  "language_info": {
   "codemirror_mode": {
    "name": "ipython",
    "version": 3
   },
   "file_extension": ".py",
   "mimetype": "text/x-python",
   "name": "python",
   "nbconvert_exporter": "python",
   "pygments_lexer": "ipython3",
   "version": "3.12.4"
  }
 },
 "nbformat": 4,
 "nbformat_minor": 5
}
