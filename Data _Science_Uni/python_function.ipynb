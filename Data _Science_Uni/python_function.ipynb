{
 "cells": [
  {
   "cell_type": "markdown",
   "id": "9f0e4ae0-2efa-49b4-b763-25be4b9c2a45",
   "metadata": {},
   "source": [
    "Python Function\n",
    "def DoSomething() :  # 'def' keyword, DoSomething --function name, ()- parantheses,:--colon \n",
    "    value = 1 # assign 1 to value variable\n",
    "    return value # return value of value\n",
    "    "
   ]
  },
  {
   "cell_type": "markdown",
   "id": "af64a41e-df05-4e5e-b1c6-d2cc694a772f",
   "metadata": {},
   "source": [
    "- A function is block of code which run only when it is called\n",
    "- Advanced function -- lambda, map, zip"
   ]
  },
  {
   "cell_type": "code",
   "execution_count": 1,
   "id": "468c1edf-b909-48f6-9aea-a289e5156592",
   "metadata": {},
   "outputs": [],
   "source": [
    "def my_function(): #function defining\n",
    "    print(\"This is a function\")"
   ]
  },
  {
   "cell_type": "code",
   "execution_count": 2,
   "id": "378e0304-cba7-44d8-b5e5-afcf3fe10614",
   "metadata": {},
   "outputs": [
    {
     "name": "stdout",
     "output_type": "stream",
     "text": [
      "This is a function\n"
     ]
    }
   ],
   "source": [
    "my_function() #function calling"
   ]
  },
  {
   "cell_type": "code",
   "execution_count": 3,
   "id": "36fea61a-0421-4e1d-aca8-0d08740bee33",
   "metadata": {},
   "outputs": [
    {
     "name": "stdout",
     "output_type": "stream",
     "text": [
      "CR001_Shreya\n"
     ]
    }
   ],
   "source": [
    "def my_Id(name): #function with argument\n",
    "    print(\"CR001_\"+name)\n",
    "my_Id(\"Shreya\")"
   ]
  },
  {
   "cell_type": "code",
   "execution_count": 4,
   "id": "5bdc5ae6-c25d-4c13-9ff3-c04d24c8d099",
   "metadata": {},
   "outputs": [
    {
     "data": {
      "text/plain": [
       "10"
      ]
     },
     "execution_count": 4,
     "metadata": {},
     "output_type": "execute_result"
    }
   ],
   "source": [
    "def add(a,b,c):\n",
    "    return a+b+c\n",
    "add(4,5,1)"
   ]
  },
  {
   "cell_type": "code",
   "execution_count": 7,
   "id": "8c55bc64-d53e-4d84-bef9-54206b97d860",
   "metadata": {},
   "outputs": [
    {
     "name": "stdout",
     "output_type": "stream",
     "text": [
      "10\n"
     ]
    }
   ],
   "source": [
    "#using lambda function\n",
    "add = lambda a,b,c : print(a+b+c)\n",
    "add(4,5,1)"
   ]
  },
  {
   "cell_type": "code",
   "execution_count": 8,
   "id": "965dddc4-b46e-46d4-add2-6899af77d68c",
   "metadata": {},
   "outputs": [
    {
     "name": "stdout",
     "output_type": "stream",
     "text": [
      "[1, 4, 9, 16, 25]\n"
     ]
    }
   ],
   "source": [
    "#map function\n",
    "nums=[1,2,3,4,5]\n",
    "def sq(n):\n",
    "    return n*n\n",
    "square = map(sq, nums)\n",
    "\n",
    "print(list(square))"
   ]
  },
  {
   "cell_type": "code",
   "execution_count": 9,
   "id": "6ff85e29-0bb4-4b80-b6fe-0b1fbca2b3e5",
   "metadata": {},
   "outputs": [
    {
     "name": "stdout",
     "output_type": "stream",
     "text": [
      "[('Manali', 4), ('Niki', 5), ('Bhavi', 6)]\n"
     ]
    }
   ],
   "source": [
    "#Zip function\n",
    "name = [\"Manali\", \"Niki\",\"Bhavi\"]\n",
    "ID= [4,5,6]\n",
    "\n",
    "mapped = zip(name, ID)\n",
    "print(list(mapped))"
   ]
  },
  {
   "cell_type": "code",
   "execution_count": null,
   "id": "e9d320eb-563a-4152-a4ac-8930322b64ef",
   "metadata": {},
   "outputs": [],
   "source": []
  }
 ],
 "metadata": {
  "kernelspec": {
   "display_name": "Python 3 (ipykernel)",
   "language": "python",
   "name": "python3"
  },
  "language_info": {
   "codemirror_mode": {
    "name": "ipython",
    "version": 3
   },
   "file_extension": ".py",
   "mimetype": "text/x-python",
   "name": "python",
   "nbconvert_exporter": "python",
   "pygments_lexer": "ipython3",
   "version": "3.12.4"
  }
 },
 "nbformat": 4,
 "nbformat_minor": 5
}
