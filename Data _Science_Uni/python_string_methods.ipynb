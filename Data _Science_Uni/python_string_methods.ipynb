{
 "cells": [
  {
   "cell_type": "markdown",
   "id": "31d65144-7a54-429f-8738-b3549c4bbe00",
   "metadata": {},
   "source": [
    "Python String"
   ]
  },
  {
   "cell_type": "markdown",
   "id": "11e61eab-9e99-4ba8-ba3a-f6dd6edaab69",
   "metadata": {},
   "source": [
    "B  R  A  I  N\n",
    "0  1  2  3  4\n",
    "-5 -4 -3 -2 -1\n",
    "Python String Methods\n",
    "They do not change the original string\n",
    "- isalpha()\n",
    "- isalnum()\n",
    "- index()\n",
    "- find()\n",
    "- count()\n",
    "- capitalize()\n",
    "- isdigit()\n",
    "- islower()\n",
    "- isnumeric()\n",
    "  ***********\n",
    "- endswitch()\n",
    "- upper()\n",
    "- title()\n",
    "- swapcase()\n",
    "- strip()\n",
    "- startswitch()\n",
    "- split()\n",
    "- join()\n",
    "- lower()\n",
    "- replace()"
   ]
  },
  {
   "cell_type": "code",
   "execution_count": 2,
   "id": "38d8ce90-f4bb-4aaa-9103-642bb999a4e3",
   "metadata": {},
   "outputs": [
    {
     "name": "stdout",
     "output_type": "stream",
     "text": [
      "Hello, welcome to our country\n"
     ]
    }
   ],
   "source": [
    "txt=\"hello, welcome to our country\"\n",
    "a=txt.capitalize() # do first letter of each word is capital\n",
    "print(a)"
   ]
  },
  {
   "cell_type": "code",
   "execution_count": 3,
   "id": "057bc042-9b4a-4f38-a65a-1687beec07e0",
   "metadata": {},
   "outputs": [
    {
     "name": "stdout",
     "output_type": "stream",
     "text": [
      "2\n"
     ]
    }
   ],
   "source": [
    "txt= \"I am from India- India\"\n",
    "b=txt.count('India')\n",
    "print(b)"
   ]
  },
  {
   "cell_type": "code",
   "execution_count": 4,
   "id": "cf30c97e-6100-412e-8749-eff667cc3bd5",
   "metadata": {},
   "outputs": [
    {
     "name": "stdout",
     "output_type": "stream",
     "text": [
      "10\n"
     ]
    }
   ],
   "source": [
    "txt= \"I am from India- India\"\n",
    "c=txt.find('India') # India is at 10th position\n",
    "print(c)"
   ]
  },
  {
   "cell_type": "code",
   "execution_count": 7,
   "id": "d021dad9-bd75-4d11-bc3d-f65740ad245c",
   "metadata": {},
   "outputs": [
    {
     "name": "stdout",
     "output_type": "stream",
     "text": [
      "-1\n"
     ]
    }
   ],
   "source": [
    "txt= \"I am from India- India\"\n",
    "c=txt.find('London') # London is not available in sgtring it returns -1\n",
    "print(c)"
   ]
  },
  {
   "cell_type": "code",
   "execution_count": 6,
   "id": "b68e4104-2534-4ee3-8bde-85b62024449c",
   "metadata": {},
   "outputs": [
    {
     "name": "stdout",
     "output_type": "stream",
     "text": [
      "2\n"
     ]
    }
   ],
   "source": [
    "d= txt.index(\"am\")\n",
    "print(d)"
   ]
  },
  {
   "cell_type": "code",
   "execution_count": 8,
   "id": "6f22fc85-ce4c-430a-8ad4-374e389ff745",
   "metadata": {},
   "outputs": [
    {
     "name": "stdout",
     "output_type": "stream",
     "text": [
      "['hello,', 'My', 'name', 'is', 'Sam,', 'I', 'am', '5', 'years', 'old']\n"
     ]
    }
   ],
   "source": [
    "txt=\"hello, My name is Sam, I am 5 years old\"\n",
    "e=txt.split() #split by space\n",
    "print(e)"
   ]
  },
  {
   "cell_type": "code",
   "execution_count": 9,
   "id": "60f7b799-1a76-46c1-9ed2-866a4a0e0d96",
   "metadata": {},
   "outputs": [
    {
     "name": "stdout",
     "output_type": "stream",
     "text": [
      "['hello', ' My name is Sam', ' I am 5 years old']\n"
     ]
    }
   ],
   "source": [
    "txt=\"hello, My name is Sam, I am 5 years old\"\n",
    "e=txt.split(',') #split by space\n",
    "print(e)"
   ]
  },
  {
   "cell_type": "code",
   "execution_count": 10,
   "id": "dc72e125-5dd3-4264-a8ec-1bb093b196cd",
   "metadata": {},
   "outputs": [
    {
     "name": "stdout",
     "output_type": "stream",
     "text": [
      "True\n"
     ]
    }
   ],
   "source": [
    "#################################\n",
    "txt= \"Company12\"\n",
    "name=txt.isalnum()\n",
    "print(name)"
   ]
  },
  {
   "cell_type": "code",
   "execution_count": 11,
   "id": "ea05668d-66b2-4e83-95be-4b04bc00c3c2",
   "metadata": {},
   "outputs": [
    {
     "name": "stdout",
     "output_type": "stream",
     "text": [
      "False\n"
     ]
    }
   ],
   "source": [
    "txt= \"Company12\"\n",
    "name=txt.isalpha()\n",
    "print(name)"
   ]
  },
  {
   "cell_type": "code",
   "execution_count": 12,
   "id": "76502e5e-8438-4935-8d3d-83b28ec8818f",
   "metadata": {},
   "outputs": [
    {
     "name": "stdout",
     "output_type": "stream",
     "text": [
      "True\n"
     ]
    }
   ],
   "source": [
    "txt= \"12\"\n",
    "name=txt.isdigit()\n",
    "print(name)"
   ]
  },
  {
   "cell_type": "code",
   "execution_count": 14,
   "id": "19ea901d-288a-47bf-aa41-5d30ca7eab2a",
   "metadata": {},
   "outputs": [
    {
     "name": "stdout",
     "output_type": "stream",
     "text": [
      "John_Sam_Peter\n"
     ]
    }
   ],
   "source": [
    "names=[\"John\", \"Sam\", \"Peter\"]\n",
    "joined = \"_\".join(names)\n",
    "print(joined)"
   ]
  },
  {
   "cell_type": "code",
   "execution_count": 15,
   "id": "9a7fca95-a514-4dbc-a63e-db2c4cc7c8b6",
   "metadata": {},
   "outputs": [
    {
     "name": "stdout",
     "output_type": "stream",
     "text": [
      "John@Sam@Peter\n"
     ]
    }
   ],
   "source": [
    "names=[\"John\", \"Sam\", \"Peter\"]\n",
    "joined = \"@\".join(names)\n",
    "print(joined)"
   ]
  },
  {
   "cell_type": "code",
   "execution_count": 16,
   "id": "b3043315-8fd6-41d5-ae3f-e02c18dc6b51",
   "metadata": {},
   "outputs": [
    {
     "name": "stdout",
     "output_type": "stream",
     "text": [
      "I love Sports\n"
     ]
    }
   ],
   "source": [
    "txt=\"I love cricket\"\n",
    "result=txt.replace(\"cricket\", \"Sports\")\n",
    "print(result)"
   ]
  },
  {
   "cell_type": "code",
   "execution_count": 20,
   "id": "16c645bb-2bb9-4605-9c97-0fa90882d1ce",
   "metadata": {},
   "outputs": [
    {
     "data": {
      "text/plain": [
       "(True, True)"
      ]
     },
     "execution_count": 20,
     "metadata": {},
     "output_type": "execute_result"
    }
   ],
   "source": [
    "txt = \"Hello, welcome to my Country.\"\n",
    "start=txt.startswith(\"Hello\")\n",
    "end=txt.endswith(\".\")\n",
    "start,end"
   ]
  },
  {
   "cell_type": "code",
   "execution_count": 21,
   "id": "9b3260cb-cd67-443b-9691-92b51710e51e",
   "metadata": {},
   "outputs": [
    {
     "data": {
      "text/plain": [
       "(False, False)"
      ]
     },
     "execution_count": 21,
     "metadata": {},
     "output_type": "execute_result"
    }
   ],
   "source": [
    "txt = \"Hello, welcome to my Country.\"\n",
    "start=txt.startswith(\"welcome\")\n",
    "end=txt.endswith(\"?\")\n",
    "start,end"
   ]
  },
  {
   "cell_type": "code",
   "execution_count": null,
   "id": "a83d05ef-1600-41b5-ba00-da89fdad6014",
   "metadata": {},
   "outputs": [],
   "source": []
  }
 ],
 "metadata": {
  "kernelspec": {
   "display_name": "Python 3 (ipykernel)",
   "language": "python",
   "name": "python3"
  },
  "language_info": {
   "codemirror_mode": {
    "name": "ipython",
    "version": 3
   },
   "file_extension": ".py",
   "mimetype": "text/x-python",
   "name": "python",
   "nbconvert_exporter": "python",
   "pygments_lexer": "ipython3",
   "version": "3.12.4"
  }
 },
 "nbformat": 4,
 "nbformat_minor": 5
}
