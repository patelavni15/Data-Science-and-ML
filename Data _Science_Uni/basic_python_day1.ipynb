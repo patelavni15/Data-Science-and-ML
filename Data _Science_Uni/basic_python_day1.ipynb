{
 "cells": [
  {
   "cell_type": "code",
   "execution_count": 1,
   "id": "80adc4c9-2d37-4553-839f-4f243970d735",
   "metadata": {},
   "outputs": [
    {
     "name": "stdout",
     "output_type": "stream",
     "text": [
      "Hello\n"
     ]
    }
   ],
   "source": [
    "name = 'Hello'\n",
    "print(name)"
   ]
  },
  {
   "cell_type": "code",
   "execution_count": 2,
   "id": "2cc71d4f-68ed-4bd8-bf2f-8f60362456ec",
   "metadata": {},
   "outputs": [
    {
     "name": "stdout",
     "output_type": "stream",
     "text": [
      "World\n"
     ]
    }
   ],
   "source": [
    "#comment : use for described the code, it is not executable\n",
    "a = 'World' # This is 'World' String\n",
    "print(a)\n"
   ]
  },
  {
   "cell_type": "code",
   "execution_count": null,
   "id": "7c7f40d1-f0f7-4fd4-866b-080429ab62dd",
   "metadata": {},
   "outputs": [],
   "source": [
    "#Data Types and Variables\n",
    "- Text Type: str\n",
    "- Numeric Types: int, float\n",
    "- Sequence Types: list, tuple, range\n",
    "- MApping Type: dict\n",
    "- Set Type: set\n",
    "- Boolean Type: bool\n"
   ]
  },
  {
   "cell_type": "code",
   "execution_count": 2,
   "id": "ab469b4b-327e-4c31-b189-a1fe1ffdbde2",
   "metadata": {},
   "outputs": [
    {
     "name": "stdout",
     "output_type": "stream",
     "text": [
      "Krish\n",
      "21\n",
      "78.89\n"
     ]
    }
   ],
   "source": [
    "Name = 'Krish' #store the value in variable\n",
    "age=21\n",
    "percentage=78.89 #assign value\n",
    "print(Name) #accessing variable\n",
    "print(age)\n",
    "print(percentage)\n"
   ]
  },
  {
   "cell_type": "code",
   "execution_count": 3,
   "id": "2beec2ba-922a-4ce5-a15b-0e02f2309b4a",
   "metadata": {},
   "outputs": [
    {
     "data": {
      "text/plain": [
       "str"
      ]
     },
     "execution_count": 3,
     "metadata": {},
     "output_type": "execute_result"
    }
   ],
   "source": [
    "type(Name) #to know type of variable use type()"
   ]
  },
  {
   "cell_type": "code",
   "execution_count": 4,
   "id": "a7b247d1-75af-4de3-be43-cf07d0155db4",
   "metadata": {},
   "outputs": [
    {
     "data": {
      "text/plain": [
       "float"
      ]
     },
     "execution_count": 4,
     "metadata": {},
     "output_type": "execute_result"
    }
   ],
   "source": [
    "type(percentage)"
   ]
  },
  {
   "cell_type": "code",
   "execution_count": 5,
   "id": "d28e934e-3d44-4cc2-9633-b1c6e1bc4ba3",
   "metadata": {},
   "outputs": [
    {
     "data": {
      "text/plain": [
       "['Heny', 21, 99.5]"
      ]
     },
     "execution_count": 5,
     "metadata": {},
     "output_type": "execute_result"
    }
   ],
   "source": [
    "student=['Heny', 21, 99.5] #this is list, you can add and delete elements inside the list\n",
    "student"
   ]
  },
  {
   "cell_type": "code",
   "execution_count": 6,
   "id": "daf85fba-29d4-4a87-9310-e7ec5d66a970",
   "metadata": {},
   "outputs": [
    {
     "data": {
      "text/plain": [
       "['Heny', 21, 99.5, 'Computer']"
      ]
     },
     "execution_count": 6,
     "metadata": {},
     "output_type": "execute_result"
    }
   ],
   "source": [
    "student.append('Computer')\n",
    "student"
   ]
  },
  {
   "cell_type": "code",
   "execution_count": 7,
   "id": "e41bbd03-db64-4ea1-b6f1-dd8da233d791",
   "metadata": {},
   "outputs": [
    {
     "data": {
      "text/plain": [
       "'Heny'"
      ]
     },
     "execution_count": 7,
     "metadata": {},
     "output_type": "execute_result"
    }
   ],
   "source": [
    "student[0]"
   ]
  },
  {
   "cell_type": "code",
   "execution_count": 8,
   "id": "af566288-951d-4695-8f92-327e55a402d6",
   "metadata": {},
   "outputs": [
    {
     "data": {
      "text/plain": [
       "['Mony', 21, 99.5, 'Computer']"
      ]
     },
     "execution_count": 8,
     "metadata": {},
     "output_type": "execute_result"
    }
   ],
   "source": [
    "student[0]='Mony'\n",
    "student"
   ]
  },
  {
   "cell_type": "code",
   "execution_count": 9,
   "id": "6371fcf5-cecf-4b01-876d-fdaf47a10bb2",
   "metadata": {},
   "outputs": [
    {
     "data": {
      "text/plain": [
       "['Mony', 21, 99.5, 'Electrical']"
      ]
     },
     "execution_count": 9,
     "metadata": {},
     "output_type": "execute_result"
    }
   ],
   "source": [
    "student[3]='Electrical'\n",
    "student"
   ]
  },
  {
   "cell_type": "code",
   "execution_count": 10,
   "id": "18625d54-4e4a-483e-8bac-26e2df7ce49d",
   "metadata": {},
   "outputs": [
    {
     "data": {
      "text/plain": [
       "tuple"
      ]
     },
     "execution_count": 10,
     "metadata": {},
     "output_type": "execute_result"
    }
   ],
   "source": [
    "student1 = ('Mony', 21, 99.5, 'Electrical') #this is tupple, you cannot modify the elements\n",
    "type(student1)"
   ]
  },
  {
   "cell_type": "code",
   "execution_count": 11,
   "id": "176dc210-19c0-4b1b-9aab-a5619d7d7a1a",
   "metadata": {},
   "outputs": [
    {
     "ename": "TypeError",
     "evalue": "'tuple' object does not support item assignment",
     "output_type": "error",
     "traceback": [
      "\u001b[1;31m---------------------------------------------------------------------------\u001b[0m",
      "\u001b[1;31mTypeError\u001b[0m                                 Traceback (most recent call last)",
      "Cell \u001b[1;32mIn[11], line 1\u001b[0m\n\u001b[1;32m----> 1\u001b[0m student1[\u001b[38;5;241m1\u001b[39m]\u001b[38;5;241m=\u001b[39m\u001b[38;5;241m23\u001b[39m\n",
      "\u001b[1;31mTypeError\u001b[0m: 'tuple' object does not support item assignment"
     ]
    }
   ],
   "source": [
    "student1[1]=23"
   ]
  },
  {
   "cell_type": "code",
   "execution_count": 12,
   "id": "a440b2f9-f4b9-4dd2-beb1-214e6db427bd",
   "metadata": {},
   "outputs": [
    {
     "data": {
      "text/plain": [
       "range(0, 5)"
      ]
     },
     "execution_count": 12,
     "metadata": {},
     "output_type": "execute_result"
    }
   ],
   "source": [
    "#range() is a seqence of elements\n",
    "range(5) # they are numbers from satrting point to end point"
   ]
  },
  {
   "cell_type": "code",
   "execution_count": 13,
   "id": "01684bda-5451-4090-9568-0f0b8e0fccf0",
   "metadata": {},
   "outputs": [
    {
     "data": {
      "text/plain": [
       "{'Name': 'Neha', 'RollNo': 1, 'Age': 21, 'Percentage': 89}"
      ]
     },
     "execution_count": 13,
     "metadata": {},
     "output_type": "execute_result"
    }
   ],
   "source": [
    "#dictonary uses {} with key : value pair\n",
    "student3 = {'Name': 'Neha', 'RollNo': 1, 'Age':21, 'Percentage':89}\n",
    "student3"
   ]
  },
  {
   "cell_type": "code",
   "execution_count": 14,
   "id": "67a85cf7-2a1a-4518-84c6-76b039b4bb1c",
   "metadata": {},
   "outputs": [
    {
     "data": {
      "text/plain": [
       "dict_keys(['Name', 'RollNo', 'Age', 'Percentage'])"
      ]
     },
     "execution_count": 14,
     "metadata": {},
     "output_type": "execute_result"
    }
   ],
   "source": [
    "student3.keys()"
   ]
  },
  {
   "cell_type": "code",
   "execution_count": 15,
   "id": "1dbd5ba4-7b19-454e-94ed-44c3083eabda",
   "metadata": {},
   "outputs": [
    {
     "data": {
      "text/plain": [
       "dict_values(['Neha', 1, 21, 89])"
      ]
     },
     "execution_count": 15,
     "metadata": {},
     "output_type": "execute_result"
    }
   ],
   "source": [
    "student3.values()"
   ]
  },
  {
   "cell_type": "code",
   "execution_count": 17,
   "id": "e0c4e3a9-ae5a-4df2-9b83-9a7532bf43ab",
   "metadata": {},
   "outputs": [
    {
     "data": {
      "text/plain": [
       "{1, 21, 89, 'Neha'}"
      ]
     },
     "execution_count": 17,
     "metadata": {},
     "output_type": "execute_result"
    }
   ],
   "source": [
    "student4={'Neha', 1, 21, 89} #set\n",
    "student4"
   ]
  },
  {
   "cell_type": "markdown",
   "id": "56607f5a-2723-478a-abe6-f63bc4c5d71f",
   "metadata": {},
   "source": [
    "order is not maintain in set(unorder sequence of elements)"
   ]
  },
  {
   "cell_type": "code",
   "execution_count": 18,
   "id": "d8ea4b26-851d-4da5-a404-0e39b009a5e0",
   "metadata": {},
   "outputs": [
    {
     "data": {
      "text/plain": [
       "set"
      ]
     },
     "execution_count": 18,
     "metadata": {},
     "output_type": "execute_result"
    }
   ],
   "source": [
    "type(student4)"
   ]
  },
  {
   "cell_type": "code",
   "execution_count": 19,
   "id": "337e45b3-9c88-4fd1-aea7-be028c4dbbde",
   "metadata": {},
   "outputs": [
    {
     "data": {
      "text/plain": [
       "False"
      ]
     },
     "execution_count": 19,
     "metadata": {},
     "output_type": "execute_result"
    }
   ],
   "source": [
    "bool(0)"
   ]
  },
  {
   "cell_type": "raw",
   "id": "e2f82fab-ad56-4d00-be38-830c87a8d781",
   "metadata": {},
   "source": [
    "bool(1)"
   ]
  },
  {
   "cell_type": "markdown",
   "id": "a22ae0a3-49b4-40ce-9b19-f4e288528e6c",
   "metadata": {},
   "source": [
    "Python Operators\n",
    "- Arithmatic Operators\n",
    "- Assignment Operators\n",
    "- Comparision Operators\n",
    "- Logical OPerator\n",
    "- Membership Operator"
   ]
  },
  {
   "cell_type": "code",
   "execution_count": 24,
   "id": "3122c6bb-02ea-46bc-9efe-b09a7720935e",
   "metadata": {},
   "outputs": [
    {
     "name": "stdout",
     "output_type": "stream",
     "text": [
      "12 -2 35 0.7142857142857143 5 78125\n"
     ]
    }
   ],
   "source": [
    "#Arithmetic Operator (+, -, *, /, %, **)\n",
    "x=5\n",
    "y=7\n",
    "print(x+y, x-y, x*y, x/y, x%y, x**y)\n"
   ]
  },
  {
   "cell_type": "code",
   "execution_count": 25,
   "id": "d23237c5-c89e-4f47-946b-237852ad1f51",
   "metadata": {},
   "outputs": [
    {
     "name": "stdout",
     "output_type": "stream",
     "text": [
      "10\n"
     ]
    }
   ],
   "source": [
    "#Assignment Operators (=, +=, -=, /=, %=, **=) used to assign values to variables\n",
    "p=4\n",
    "q=6\n",
    "#print(p=q, p+=q, p-=q, p/=q, p%=q, p**=q)\n",
    "p += q #p=p+q\n",
    "print(p)"
   ]
  },
  {
   "cell_type": "code",
   "execution_count": 26,
   "id": "176ed357-3a6f-4a13-8c7c-7fe8d9f598c9",
   "metadata": {},
   "outputs": [
    {
     "data": {
      "text/plain": [
       "False"
      ]
     },
     "execution_count": 26,
     "metadata": {},
     "output_type": "execute_result"
    }
   ],
   "source": [
    "#Comparision Operators (==, !=, <, >, <=, >=)  used to compare two values\n",
    "x=4\n",
    "y=2\n",
    "x==y"
   ]
  },
  {
   "cell_type": "code",
   "execution_count": 27,
   "id": "4850bf7f-62e6-45da-933e-f372ababc87e",
   "metadata": {},
   "outputs": [
    {
     "data": {
      "text/plain": [
       "True"
      ]
     },
     "execution_count": 27,
     "metadata": {},
     "output_type": "execute_result"
    }
   ],
   "source": [
    "x !=y"
   ]
  },
  {
   "cell_type": "code",
   "execution_count": 28,
   "id": "ccb4cdb8-6e03-4f79-b16c-a47050edffdf",
   "metadata": {},
   "outputs": [
    {
     "data": {
      "text/plain": [
       "True"
      ]
     },
     "execution_count": 28,
     "metadata": {},
     "output_type": "execute_result"
    }
   ],
   "source": [
    "x>y"
   ]
  },
  {
   "cell_type": "code",
   "execution_count": 30,
   "id": "d52214f2-5b37-4cfc-9cd7-13ccd39360cc",
   "metadata": {},
   "outputs": [
    {
     "data": {
      "text/plain": [
       "True"
      ]
     },
     "execution_count": 30,
     "metadata": {},
     "output_type": "execute_result"
    }
   ],
   "source": [
    "x>=y"
   ]
  },
  {
   "cell_type": "code",
   "execution_count": 31,
   "id": "719ef556-0142-4bd7-9cf1-3c55dae98bc9",
   "metadata": {},
   "outputs": [
    {
     "data": {
      "text/plain": [
       "True"
      ]
     },
     "execution_count": 31,
     "metadata": {},
     "output_type": "execute_result"
    }
   ],
   "source": [
    "#Logical OPerator (and, or, not)\n",
    "(x>y) and (x!=y)"
   ]
  },
  {
   "cell_type": "code",
   "execution_count": 32,
   "id": "ac146ba2-b059-4596-ad47-0517e1414f69",
   "metadata": {},
   "outputs": [
    {
     "data": {
      "text/plain": [
       "False"
      ]
     },
     "execution_count": 32,
     "metadata": {},
     "output_type": "execute_result"
    }
   ],
   "source": [
    "not((x>y) and (x!=y))"
   ]
  },
  {
   "cell_type": "code",
   "execution_count": 33,
   "id": "857f696f-0216-4be4-ac86-d47554834ca1",
   "metadata": {},
   "outputs": [
    {
     "data": {
      "text/plain": [
       "False"
      ]
     },
     "execution_count": 33,
     "metadata": {},
     "output_type": "execute_result"
    }
   ],
   "source": [
    "#Membership Operator (if element is present in list or tupple)\n",
    "# in \n",
    "#not in\n",
    "x=[1,2,3,4,5]\n",
    "y=6\n",
    "y in x"
   ]
  },
  {
   "cell_type": "code",
   "execution_count": 34,
   "id": "8cd461f3-7c38-4e5e-9197-2d32768a4ead",
   "metadata": {},
   "outputs": [
    {
     "data": {
      "text/plain": [
       "True"
      ]
     },
     "execution_count": 34,
     "metadata": {},
     "output_type": "execute_result"
    }
   ],
   "source": [
    "y not in x"
   ]
  },
  {
   "cell_type": "code",
   "execution_count": null,
   "id": "2882a0af-7a31-46be-a043-96df5a5dae93",
   "metadata": {},
   "outputs": [],
   "source": []
  }
 ],
 "metadata": {
  "kernelspec": {
   "display_name": "Python 3 (ipykernel)",
   "language": "python",
   "name": "python3"
  },
  "language_info": {
   "codemirror_mode": {
    "name": "ipython",
    "version": 3
   },
   "file_extension": ".py",
   "mimetype": "text/x-python",
   "name": "python",
   "nbconvert_exporter": "python",
   "pygments_lexer": "ipython3",
   "version": "3.12.4"
  }
 },
 "nbformat": 4,
 "nbformat_minor": 5
}
