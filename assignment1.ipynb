{
  "nbformat": 4,
  "nbformat_minor": 0,
  "metadata": {
    "colab": {
      "provenance": []
    },
    "kernelspec": {
      "name": "python3",
      "display_name": "Python 3"
    },
    "language_info": {
      "name": "python"
    }
  },
  "cells": [
    {
      "cell_type": "code",
      "execution_count": null,
      "metadata": {
        "id": "uTPgU5TGxDqL"
      },
      "outputs": [],
      "source": [
        "#Problem Statement1: Write a Python program to multiply a M X N matrix by N X A matrix and create a real matrix product."
      ]
    },
    {
      "cell_type": "code",
      "source": [
        "import numpy as np\n",
        "arr1 = np.array([[1,2,3],\n",
        "                [1,2,3],\n",
        "                [1,2,3],\n",
        "                [1,2,3],\n",
        "                [1,2,3]])\n",
        "arr1"
      ],
      "metadata": {
        "colab": {
          "base_uri": "https://localhost:8080/"
        },
        "id": "HFTOD3pbxYjv",
        "outputId": "202210c6-4231-43ed-f8e1-7513c78e59b7"
      },
      "execution_count": null,
      "outputs": [
        {
          "output_type": "execute_result",
          "data": {
            "text/plain": [
              "array([[1, 2, 3],\n",
              "       [1, 2, 3],\n",
              "       [1, 2, 3],\n",
              "       [1, 2, 3],\n",
              "       [1, 2, 3]])"
            ]
          },
          "metadata": {},
          "execution_count": 3
        }
      ]
    },
    {
      "cell_type": "code",
      "source": [
        "arr2 = np.array([[1,2],\n",
        "                 [1,2],\n",
        "                 [1,2]])\n",
        "arr2"
      ],
      "metadata": {
        "colab": {
          "base_uri": "https://localhost:8080/"
        },
        "id": "dmCSmA6XzQVx",
        "outputId": "b932a048-12f4-4d36-b99e-276af16ccb80"
      },
      "execution_count": null,
      "outputs": [
        {
          "output_type": "execute_result",
          "data": {
            "text/plain": [
              "array([[1, 2],\n",
              "       [1, 2],\n",
              "       [1, 2]])"
            ]
          },
          "metadata": {},
          "execution_count": 4
        }
      ]
    },
    {
      "cell_type": "code",
      "source": [
        "dot_product = np.dot(arr1, arr2)\n",
        "print(\"Dot product of Two Array:\",dot_product)"
      ],
      "metadata": {
        "colab": {
          "base_uri": "https://localhost:8080/"
        },
        "id": "WjFQLRXz9c9a",
        "outputId": "6ed9e1bd-fedf-4695-94a0-66ee52f1271f"
      },
      "execution_count": null,
      "outputs": [
        {
          "output_type": "stream",
          "name": "stdout",
          "text": [
            "Dot product of Two Array: [[ 6 12]\n",
            " [ 6 12]\n",
            " [ 6 12]\n",
            " [ 6 12]\n",
            " [ 6 12]]\n"
          ]
        }
      ]
    },
    {
      "cell_type": "code",
      "source": [
        "#Problem Statement2: Write a NumPy program to check if each element of an array of your choice is composed of digits, lower case letters, and upper case letters only."
      ],
      "metadata": {
        "id": "pZY1CCZHDExI"
      },
      "execution_count": null,
      "outputs": []
    },
    {
      "cell_type": "code",
      "source": [
        "import numpy as np\n",
        "original_array = np.array(['Python', 'PHP', 'JS', 'Examples','html5', '5'])\n",
        "\n",
        "print(\"Original Array:\",original_array)\n",
        "check_digit = np.char.isdigit(original_array)\n",
        "print(\"Digits only:\",check_digit)\n",
        "\n",
        "lower_case = np.char.islower(original_array)\n",
        "print(\"Lower case only:\",lower_case)\n",
        "\n",
        "upper_case = np.char.isupper(original_array)\n",
        "print(\"Upper case only:\",upper_case)\n",
        "\n"
      ],
      "metadata": {
        "id": "IX0d56GBDHFv",
        "colab": {
          "base_uri": "https://localhost:8080/"
        },
        "outputId": "17764848-a868-47d5-d680-9708e1082010"
      },
      "execution_count": null,
      "outputs": [
        {
          "output_type": "stream",
          "name": "stdout",
          "text": [
            "Original Array: ['Python' 'PHP' 'JS' 'Examples' 'html5' '5']\n",
            "Digits only: [False False False False False  True]\n",
            "Lower case only: [False False False False  True False]\n",
            "Upper case only: [False  True  True False False False]\n"
          ]
        }
      ]
    },
    {
      "cell_type": "code",
      "source": [
        "#Problem Statement 3: Write a program that reads two space-separated positive integers X and Y as input and perform the following tasks:\n",
        "import numpy as np\n",
        "x,y = input('Enter values of X and Y: ').split('  ')\n",
        "x = int(x)\n",
        "y = int(y)\n",
        "\n",
        "lst1 = list(range(1,500,x)[:16])\n",
        "lst2 = list(range(1,500,y)[:16])\n",
        "\n",
        "#Create two NumPy arrays np1 and np2 using lst1 and lst2 respectively\n",
        "np1 = np.array(lst1)\n",
        "np2 = np.array(lst2)\n",
        "\n",
        "#Reshape both the NumPy arrays to (4,4)\n",
        "np1 = np1.reshape(4,4)\n",
        "np2 = np2.reshape(4,4)\n",
        "\n",
        "#Create a new np array (np3) with values obtained by subtracting both the arrays (np1 -np2)\n",
        "np3 = np1 - np2\n",
        "\n",
        "#Print all the elements of np3 in a single dimension list\n",
        "np3 = np3.ravel()\n",
        "print(np3)"
      ],
      "metadata": {
        "colab": {
          "base_uri": "https://localhost:8080/"
        },
        "id": "mE8ZjBG0elEl",
        "outputId": "a67c53be-88f3-4875-c7a6-07bdebfcc98c"
      },
      "execution_count": null,
      "outputs": [
        {
          "output_type": "stream",
          "name": "stdout",
          "text": [
            "Enter values of X and Y: 7  9\n",
            "[  0  -2  -4  -6  -8 -10 -12 -14 -16 -18 -20 -22 -24 -26 -28 -30]\n"
          ]
        }
      ]
    },
    {
      "cell_type": "code",
      "source": [
        "\n",
        "# Problem Statement 4: Write a Python program that takes two integer-NumPy arrays, 𝑃 and 𝑄 of shape [3 ∗ 3]\n",
        "\n",
        "import numpy as np\n",
        "p = np.array([[23, 56, 87],\n",
        "              [3, 6, 96],\n",
        "              [4, 6, 78]])\n",
        "print(\"Matrix P:\", p)\n",
        "\n",
        "q = np.array([[12, 34, 54],\n",
        "              [7, 2, 54],\n",
        "              [6, 2, 78]])\n",
        "print(\"Matrix Q:\", q)\n",
        "res = []\n",
        "for sub1, sub2 in zip(p, q):\n",
        "    temp = []\n",
        "\n",
        "    # iterate for elements\n",
        "    for ele1, ele2 in zip(sub1, sub2):\n",
        "        temp.append(ele1 - ele2)\n",
        "    res.append(temp)\n",
        "print(\"The Matrix Difference : \" + str(res))\n",
        "\n"
      ],
      "metadata": {
        "id": "unXdp3QHQ4Xh",
        "colab": {
          "base_uri": "https://localhost:8080/"
        },
        "outputId": "eea95d3b-6c0d-43f1-cb52-10afb197fc43"
      },
      "execution_count": null,
      "outputs": [
        {
          "output_type": "stream",
          "name": "stdout",
          "text": [
            "Matrix P: [[23 56 87]\n",
            " [ 3  6 96]\n",
            " [ 4  6 78]]\n",
            "Matrix Q: [[12 34 54]\n",
            " [ 7  2 54]\n",
            " [ 6  2 78]]\n",
            "The Matrix Difference : [[11, 22, 33], [-4, 4, 42], [-2, 4, 0]]\n"
          ]
        }
      ]
    }
  ]
}