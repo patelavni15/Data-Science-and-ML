{
 "cells": [
  {
   "cell_type": "markdown",
   "metadata": {
    "id": "RolFLtUO0hYm"
   },
   "source": [
    "### **Problem Statement 1**\n",
    "\n",
    "Write a NumPy program to multiply a MxN matrix by a NxA matrix and create a real matrix product.\n",
    "\n",
    "Example: \n",
    "\n",
    "    Input: 5  3  2\n",
    "\n",
    "    Output: First array:\n",
    "                [[0.94293584 0.8091474  0.72330868]\n",
    "                 [0.91143684 0.54976631 0.37547562]\n",
    "                 [0.3656866  0.94185543 0.98414967]\n",
    "                 [0.81470666 0.80629404 0.46326721]\n",
    "                 [0.40648925 0.70615124 0.4786933 ]]\n",
    "            Second array:\n",
    "                [[0.45507569 0.53265048]\n",
    "                 [0.41761748 0.87547934]\n",
    "                 [0.83832095 0.79087463]]\n",
    "            Dot product of two arrays:\n",
    "                [[1.37338609 1.78269354]\n",
    "                 [0.95913385 1.26374046]\n",
    "                 [1.38478366 1.79769712]\n",
    "                 [1.09584228 1.50623395]\n",
    "                 [0.8811831  1.21332391]]"
   ]
  },
  {
   "cell_type": "code",
   "execution_count": null,
   "metadata": {
    "colab": {
     "base_uri": "https://localhost:8080/"
    },
    "id": "os_HuRdS-ZpQ",
    "outputId": "0bddf8f5-25d7-4716-8128-6010cc590f18"
   },
   "outputs": [
    {
     "name": "stdout",
     "output_type": "stream",
     "text": [
      "Enter value M: 5\n",
      "Enter value N: 3\n",
      "Enter value A: 2\n",
      "First array:\n",
      "[[0.91614484 0.45545931 0.17279562]\n",
      " [0.20634906 0.35813794 0.81266181]\n",
      " [0.98721037 0.82108427 0.02670186]\n",
      " [0.04485951 0.46053448 0.08879493]\n",
      " [0.04227533 0.54767138 0.29793239]]\n",
      "Second array:\n",
      "[[0.22269915 0.71883648]\n",
      " [0.23902122 0.55888353]\n",
      " [0.92288975 0.86503086]]\n",
      "Dot product of two arrays:\n",
      "[[0.47236042 1.06258058]\n",
      " [0.88155358 1.05146617]\n",
      " [0.44075035 1.19163124]\n",
      " [0.20201562 0.36644214]\n",
      " [0.41527852 0.59419428]]\n"
     ]
    }
   ],
   "source": [
    "import numpy as np\n",
    "m=int(input(\"Enter value M: \"))\n",
    "n=int(input(\"Enter value N: \"))\n",
    "a=int(input(\"Enter value A: \"))\n",
    "x = np.random.random((m,n))\n",
    "print(\"First array:\")\n",
    "print(x)\n",
    "y = np.random.random((n,a))\n",
    "print(\"Second array:\")\n",
    "print(y)\n",
    "z = np.dot(x, y)\n",
    "print(\"Dot product of two arrays:\")\n",
    "print(z)"
   ]
  },
  {
   "cell_type": "markdown",
   "metadata": {
    "id": "p1qqd18JDjXG"
   },
   "source": [
    "### **Problem Statement 2**\n",
    "\n",
    "Write a NumPy program to check if each element of an array of your choice is composed of digits, lower case letters, and upper case letters only.\n",
    "\n",
    "Hint: You can use isdigit(),islower(), and isupper() function.\n",
    "\n",
    "Example: \n",
    "\n",
    "    Input: Original Array:\n",
    "           ['Python' 'PHP' 'JS' 'Examples' 'html5' '5']\n",
    "\n",
    "    Output: Digits only = [False False False False False  True]\n",
    "            Lower cases only = [False False False False  True False]\n",
    "            Upper cases only = [False  True  True False False False"
   ]
  },
  {
   "cell_type": "code",
   "execution_count": null,
   "metadata": {
    "colab": {
     "base_uri": "https://localhost:8080/"
    },
    "id": "ctFOMTXDEhZC",
    "outputId": "486f2ea3-b383-4737-bf3d-62f63977d9b9"
   },
   "outputs": [
    {
     "name": "stdout",
     "output_type": "stream",
     "text": [
      "\n",
      "Original Array:\n",
      "['Python' 'PHP' 'JS' 'Examples' 'html5' '5'] \n",
      "\n",
      "Digits only = [False False False False False  True]\n",
      "Lower cases only = [False False False False  True False]\n",
      "Upper cases only = [False  True  True False False False]\n"
     ]
    }
   ],
   "source": [
    "import numpy as np\n",
    "x = np.array(['Python', 'PHP', 'JS', 'Examples', 'html5', '5'], dtype=str)\n",
    "print(\"\\nOriginal Array:\")\n",
    "print(x,\"\\n\")\n",
    "r1 = np.char.isdigit(x)\n",
    "r2 = np.char.islower(x)\n",
    "r3 = np.char.isupper(x)\n",
    "print(\"Digits only =\", r1)\n",
    "print(\"Lower cases only =\", r2)\n",
    "print(\"Upper cases only =\", r3)"
   ]
  },
  {
   "cell_type": "markdown",
   "metadata": {
    "id": "xd34KiF8G-2Y"
   },
   "source": [
    "### **Problem Statement 3**\n",
    "\n",
    "Write a program which reads two space-separated positive integers X and Y as input and perform the following tasks:\n",
    "\n",
    "#### **Tasks to be performed:**\n",
    "\n",
    "1. Create a list (lst1) starting at one (1) with 16 elements at a step of X\n",
    "2. Create a list (lst2) starting at one (1) with 16 elements at a step of Y\n",
    "3. Create two NumPy arrays np1 and np2 using lst1 and lst2 respectively\n",
    "4. Reshape both the NumPy arrays to (4,4)\n",
    "5. Create a new np array (np3) with values obtained by subtracting both the arrays (np1 - np2)\n",
    "6. Print all the elements of np3 in a single dimension list like format as shown below:\n",
    "              [n0 n1 n2 n3 n4 n5 n6 n7 n8]\n",
    "\n",
    "Example:\n",
    "\n",
    "Input: 7 9 \n",
    "\n",
    "Output: [  0  -2  -4  -6  -8 -10 -12 -14 -16 -18 -20 -22 -24 -26 -28 -30]"
   ]
  },
  {
   "cell_type": "code",
   "execution_count": null,
   "metadata": {
    "colab": {
     "base_uri": "https://localhost:8080/"
    },
    "id": "fn-OAccAIdRh",
    "outputId": "ca71ea11-a860-4669-917d-b7ba9c8ede79"
   },
   "outputs": [
    {
     "name": "stdout",
     "output_type": "stream",
     "text": [
      "7 9\n",
      "[  0  -2  -4  -6  -8 -10 -12 -14 -16 -18 -20 -22 -24 -26 -28 -30]\n"
     ]
    }
   ],
   "source": [
    "import numpy as np\n",
    "X,Y=map(int,input().split(' '))\n",
    "\n",
    "lst1=list(range(1,X*16,X))\n",
    "lst2=list(range(1,Y*16,Y))\n",
    "np1=np.array(lst1)\n",
    "np2=np.array(lst2)\n",
    "np1=np1.reshape((4,4))\n",
    "np2=np2.reshape((4,4))\n",
    "np3=np.ravel(np1-np2)\n",
    "print(np3)\n"
   ]
  },
  {
   "cell_type": "markdown",
   "metadata": {
    "id": "XjQfAfMQlkZ1"
   },
   "source": [
    "### **Problem Statement 4**\n",
    "\n",
    "Write a Python program which takes two integer-NumPy arrays, P and Q of shape [3 * 3] and perform the following task:\n",
    "\n",
    "Task to be performed:\n",
    "Print the element-wise difference of the matrix P and Q (P-Q).\n",
    "\n",
    "Topics covered:\n",
    "Append function\n",
    "Matrix subtraction\n",
    "Example:\n",
    "\n",
    "Input: \n",
    "\n",
    "23 56 87 3 6 96 4 6 78\n",
    "\n",
    "12 34 54 7 2 54 6 2 78\n",
    "\n",
    "Output: [[11 22 33]\n",
    "         [-4  4 42]\n",
    "         [-2  4  0]]"
   ]
  },
  {
   "cell_type": "code",
   "execution_count": null,
   "metadata": {
    "colab": {
     "base_uri": "https://localhost:8080/"
    },
    "id": "eGU7NAoqmFSH",
    "outputId": "fd5d0606-0fc2-41e2-e56a-87c87e2aab4b"
   },
   "outputs": [
    {
     "name": "stdout",
     "output_type": "stream",
     "text": [
      "23 56 87 3 6 96 4 6 78\n",
      "12 34 54 7 2 54 6 2 78\n",
      "[[11 22 33]\n",
      " [-4  4 42]\n",
      " [-2  4  0]]\n"
     ]
    }
   ],
   "source": [
    "import numpy as np\n",
    "\n",
    "arr1 = list()\n",
    "arr2 = list()\n",
    "arr1.append(input().split(' '))\n",
    "arr2.append(input().split(' '))\n",
    "\n",
    "array_1 = np.array(arr1, int).reshape(3,3)\n",
    "array_2 = np.array(arr2, int).reshape(3,3)\n",
    "\n",
    "print(array_1 - array_2)"
   ]
  },
  {
   "cell_type": "code",
   "execution_count": null,
   "metadata": {
    "id": "MPWDnI3Bo8lR"
   },
   "outputs": [],
   "source": []
  }
 ],
 "metadata": {
  "accelerator": "GPU",
  "colab": {
   "name": "Unit 1 NumPy",
   "provenance": []
  },
  "kernelspec": {
   "display_name": "Python 3 (ipykernel)",
   "language": "python",
   "name": "python3"
  },
  "language_info": {
   "codemirror_mode": {
    "name": "ipython",
    "version": 3
   },
   "file_extension": ".py",
   "mimetype": "text/x-python",
   "name": "python",
   "nbconvert_exporter": "python",
   "pygments_lexer": "ipython3",
   "version": "3.12.4"
  }
 },
 "nbformat": 4,
 "nbformat_minor": 4
}
